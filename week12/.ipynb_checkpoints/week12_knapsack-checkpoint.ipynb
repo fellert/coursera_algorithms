{
 "cells": [
  {
   "cell_type": "markdown",
   "metadata": {},
   "source": [
    "### Knapsack"
   ]
  },
  {
   "cell_type": "code",
   "execution_count": 1,
   "metadata": {
    "collapsed": true
   },
   "outputs": [],
   "source": [
    "import sys\n",
    "sys.setrecursionlimit(3000)"
   ]
  },
  {
   "cell_type": "code",
   "execution_count": 2,
   "metadata": {
    "collapsed": true
   },
   "outputs": [],
   "source": [
    "with open(\"knapsack.txt\") as f:\n",
    "    data = f.read().splitlines()\n",
    "    W = [0]\n",
    "    V = [0]\n",
    "    for line in data[1:]:\n",
    "        V.append(int(line.split()[0]))\n",
    "        W.append(int(line.split()[1]))\n",
    "        \n",
    "capacity = int(data[0].split()[0])"
   ]
  },
  {
   "cell_type": "code",
   "execution_count": 3,
   "metadata": {
    "collapsed": true
   },
   "outputs": [],
   "source": [
    "def knapsack(capacity,W,V):\n",
    "    \n",
    "    A = [[0]*capacity]\n",
    "\n",
    "    for i in range(1,len(W)):\n",
    "        sub = []\n",
    "        for x in range(capacity):\n",
    "            if W[i] > x:\n",
    "                sub.append(A[i-1][x])\n",
    "            else:\n",
    "                sub.append(max(A[i-1][x], A[i-1][x-W[i]] + V[i]))\n",
    "        A.append(sub)\n",
    "    \n",
    "    return max([max(x) for x in A])"
   ]
  },
  {
   "cell_type": "code",
   "execution_count": 4,
   "metadata": {},
   "outputs": [
    {
     "data": {
      "text/plain": [
       "2493893"
      ]
     },
     "execution_count": 4,
     "metadata": {},
     "output_type": "execute_result"
    }
   ],
   "source": [
    "knapsack(capacity,W,V)"
   ]
  },
  {
   "cell_type": "code",
   "execution_count": 5,
   "metadata": {
    "collapsed": true
   },
   "outputs": [],
   "source": [
    "# A = {x: 0 for x in range(capacity)}\n",
    "\n",
    "# for i in range(1,len(W)):\n",
    "#     current = {}\n",
    "#     for x in range(capacity):\n",
    "#         if W[i] > x:\n",
    "#             current[x] = A[x]\n",
    "#         else:\n",
    "#             current[x] = max(A[x], A[x-W[i]] + V[i])\n",
    "#     A = current\n",
    "    \n",
    "# end = time.time()\n",
    "            \n",
    "# print(max(A.values()))"
   ]
  },
  {
   "cell_type": "markdown",
   "metadata": {
    "collapsed": true
   },
   "source": [
    "### Knapsack-Big"
   ]
  },
  {
   "cell_type": "code",
   "execution_count": 47,
   "metadata": {
    "collapsed": true
   },
   "outputs": [],
   "source": [
    "with open(\"knapsack-big.txt\") as f:\n",
    "    data = f.read().splitlines()\n",
    "    V = []\n",
    "    W = []\n",
    "    for line in data[1:]:\n",
    "        V.append(int(line.split()[0]))\n",
    "        W.append(int(line.split()[1]))"
   ]
  },
  {
   "cell_type": "code",
   "execution_count": 51,
   "metadata": {
    "collapsed": true
   },
   "outputs": [],
   "source": [
    "def knap(W,V,i,x):\n",
    "\n",
    "    if i == 0:\n",
    "        return 0\n",
    "    \n",
    "    if (i,x) in A:\n",
    "        return A[(i,x)]\n",
    "    elif W[i] > x:\n",
    "        A[(i,x)] = knap(W,V,i-1,x)\n",
    "        return A[(i,x)]\n",
    "    else:\n",
    "        A[(i,x)] = max(knap(W,V,i-1,x), knap(W,V,i-1,x-W[i]) + V[i]) \n",
    "        return A[(i,x)]"
   ]
  },
  {
   "cell_type": "code",
   "execution_count": 53,
   "metadata": {},
   "outputs": [
    {
     "data": {
      "text/plain": [
       "4243395"
      ]
     },
     "execution_count": 53,
     "metadata": {},
     "output_type": "execute_result"
    }
   ],
   "source": [
    "A = {}\n",
    "i = len(W) - 1 \n",
    "cap = int(data[0].split()[0])\n",
    "\n",
    "knap(W,V,i,cap)"
   ]
  }
 ],
 "metadata": {
  "kernelspec": {
   "display_name": "Python 3",
   "language": "python",
   "name": "python3"
  },
  "language_info": {
   "codemirror_mode": {
    "name": "ipython",
    "version": 3
   },
   "file_extension": ".py",
   "mimetype": "text/x-python",
   "name": "python",
   "nbconvert_exporter": "python",
   "pygments_lexer": "ipython3",
   "version": "3.6.3"
  }
 },
 "nbformat": 4,
 "nbformat_minor": 2
}
