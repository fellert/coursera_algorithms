{
 "cells": [
  {
   "cell_type": "code",
   "execution_count": 122,
   "metadata": {
    "collapsed": true
   },
   "outputs": [],
   "source": [
    "import math\n",
    "\n",
    "with open (\"integers.txt\") as f:\n",
    "    data = f.read().splitlines()\n",
    "    nums = [int(x) for x in data]"
   ]
  },
  {
   "cell_type": "code",
   "execution_count": 127,
   "metadata": {
    "collapsed": true
   },
   "outputs": [],
   "source": [
    "def count_inversions(array):\n",
    "    if len(array) == 1:\n",
    "        return array, 0\n",
    "    else:\n",
    "        length = len(array) // 2\n",
    "        \n",
    "        a, count_a = count_inversions(array[:length])\n",
    "        b, count_b = count_inversions(array[length:])\n",
    "        \n",
    "        merged = []\n",
    "        \n",
    "        i = 0\n",
    "        j = 0\n",
    "        count = count_a + count_b\n",
    "        \n",
    "        while i < len(a) and j < len(b):\n",
    "            if a[i] < b[j]:\n",
    "                merged.append(a[i])\n",
    "                i += 1\n",
    "            else:\n",
    "                merged.append(b[j])\n",
    "                j += 1\n",
    "                count += len(a) - i\n",
    "                \n",
    "        merged += a[i:]\n",
    "        merged += b[j:]  \n",
    "        \n",
    "    return merged, count"
   ]
  },
  {
   "cell_type": "code",
   "execution_count": 129,
   "metadata": {},
   "outputs": [
    {
     "data": {
      "text/plain": [
       "2407905288"
      ]
     },
     "execution_count": 129,
     "metadata": {},
     "output_type": "execute_result"
    }
   ],
   "source": [
    "sorted_array, inversions = count_inversions(nums)\n",
    "inversions "
   ]
  }
 ],
 "metadata": {
  "kernelspec": {
   "display_name": "Python 3",
   "language": "python",
   "name": "python3"
  },
  "language_info": {
   "codemirror_mode": {
    "name": "ipython",
    "version": 3
   },
   "file_extension": ".py",
   "mimetype": "text/x-python",
   "name": "python",
   "nbconvert_exporter": "python",
   "pygments_lexer": "ipython3",
   "version": "3.6.3"
  }
 },
 "nbformat": 4,
 "nbformat_minor": 2
}
