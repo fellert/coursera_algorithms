{
 "cells": [
  {
   "cell_type": "code",
   "execution_count": 124,
   "metadata": {},
   "outputs": [
    {
     "data": {
      "text/plain": [
       "67108864"
      ]
     },
     "execution_count": 124,
     "metadata": {},
     "output_type": "execute_result"
    }
   ],
   "source": [
    "import collections\n",
    "import sys\n",
    "import threading\n",
    "\n",
    "sys.setrecursionlimit(1000000)\n",
    "threading.stack_size(67108864)"
   ]
  },
  {
   "cell_type": "code",
   "execution_count": 125,
   "metadata": {
    "collapsed": true
   },
   "outputs": [],
   "source": [
    "test1 = '''\n",
    "1 5\n",
    "2 3\n",
    "3 5\n",
    "3 2\n",
    "4 5\n",
    "4 3\n",
    "5 2\n",
    "'''\n"
   ]
  },
  {
   "cell_type": "code",
   "execution_count": 126,
   "metadata": {
    "collapsed": true
   },
   "outputs": [],
   "source": [
    "test2 = '''\n",
    "1 3\n",
    "1 2\n",
    "2 7\n",
    "3 9\n",
    "3 4\n",
    "3 10\n",
    "3 7\n",
    "3 8\n",
    "4 2\n",
    "4 8\n",
    "5 6\n",
    "6 7\n",
    "6 1\n",
    "6 4\n",
    "7 10\n",
    "8 3\n",
    "9 4\n",
    "9 5\n",
    "9 7\n",
    "9 1\n",
    "9 3\n",
    "10 2\n",
    "'''"
   ]
  },
  {
   "cell_type": "code",
   "execution_count": 127,
   "metadata": {
    "collapsed": true
   },
   "outputs": [],
   "source": [
    "test3 = '''\n",
    "1 4\n",
    "2 3\n",
    "3 10\n",
    "4 5\n",
    "4 3\n",
    "5 8\n",
    "5 4\n",
    "6 1\n",
    "6 10\n",
    "7 3\n",
    "7 2\n",
    "8 10\n",
    "9 1\n",
    "9 6\n",
    "10 2\n",
    "10 7\n",
    "'''"
   ]
  },
  {
   "cell_type": "code",
   "execution_count": 128,
   "metadata": {
    "collapsed": true
   },
   "outputs": [],
   "source": [
    "test4 = '''\n",
    "1 3\n",
    "1 14\n",
    "2 7\n",
    "2 14\n",
    "3 4\n",
    "4 7\n",
    "5 12\n",
    "5 6\n",
    "6 11\n",
    "6 12\n",
    "7 8\n",
    "8 16\n",
    "8 6\n",
    "9 16\n",
    "9 8\n",
    "10 4\n",
    "10 12\n",
    "11 13\n",
    "12 11\n",
    "13 4\n",
    "13 5\n",
    "14 9\n",
    "14 5\n",
    "15 4\n",
    "15 9\n",
    "16 8\n",
    "17 8\n",
    "18 4\n",
    "19 20\n",
    "19 1\n",
    "20 1\n",
    "20 11\n",
    "'''"
   ]
  },
  {
   "cell_type": "code",
   "execution_count": 262,
   "metadata": {
    "collapsed": true
   },
   "outputs": [],
   "source": [
    "# data = test4.splitlines()\n",
    "# data = [list(map(int, line.split())) for line in data if line != \"\"]"
   ]
  },
  {
   "cell_type": "code",
   "execution_count": 383,
   "metadata": {
    "collapsed": true
   },
   "outputs": [],
   "source": [
    "with open(\"scc.txt\") as f:\n",
    "    data = f.read().splitlines()\n",
    "    data = [list(map(int, line.split())) for line in data]\n",
    "\n",
    "# G = collections.defaultdict(list)\n",
    "# GREV = collections.defaultdict(list)\n",
    "\n",
    "largest = max([x[0] for x in data])\n",
    "\n",
    "G = {}\n",
    "GREV = {}\n",
    "\n",
    "for i in range(1,largest+1):\n",
    "    G[i] = []\n",
    "    GREV[i] = []\n",
    "\n",
    "for line in data:\n",
    "    G[line[0]].append(line[1])\n",
    "    GREV[line[1]].append(line[0])"
   ]
  },
  {
   "cell_type": "code",
   "execution_count": 386,
   "metadata": {
    "collapsed": true
   },
   "outputs": [],
   "source": [
    "def main():\n",
    "\n",
    "    def dfs_loop(graph):\n",
    "\n",
    "        global t, s, visited, leader\n",
    "\n",
    "        i = max(graph.keys())\n",
    "\n",
    "        t = 0\n",
    "        s = 0\n",
    "        visited = {}\n",
    "        leader = {}\n",
    "\n",
    "        while i > 0:\n",
    "            if i not in visited:\n",
    "                s = i\n",
    "                dfs(graph,i)\n",
    "            i -= 1\n",
    "\n",
    "    def dfs(graph,i):\n",
    "\n",
    "        global t, s\n",
    "\n",
    "        visited[i] = 1\n",
    "        leader[i] = s\n",
    "\n",
    "        for j in graph[i]:\n",
    "            if j not in visited:\n",
    "                dfs(graph,j)\n",
    "        t += 1\n",
    "        f[i] = t\n",
    "\n",
    "    f = {}\n",
    "    dfs_loop(GREV)\n",
    "    \n",
    "    reassigned = {}\n",
    "    for i in range(1,largest+1):\n",
    "        reassigned[i] = []\n",
    "\n",
    "    for x in G:\n",
    "        reassigned[f[x]] = [f[i] for i in G[x]] \n",
    "        \n",
    "    dfs_loop(reassigned)  \n",
    "    \n",
    "    print(sorted(list(collections.Counter(leader.values()).values()), reverse=True)[:5])\n",
    " "
   ]
  },
  {
   "cell_type": "code",
   "execution_count": 387,
   "metadata": {},
   "outputs": [
    {
     "name": "stdout",
     "output_type": "stream",
     "text": [
      "[434821, 968, 459, 313, 211]\n"
     ]
    }
   ],
   "source": [
    "thread = threading.Thread(target=main)\n",
    "thread.start()"
   ]
  },
  {
   "cell_type": "code",
   "execution_count": null,
   "metadata": {
    "collapsed": true
   },
   "outputs": [],
   "source": []
  }
 ],
 "metadata": {
  "kernelspec": {
   "display_name": "Python 3",
   "language": "python",
   "name": "python3"
  },
  "language_info": {
   "codemirror_mode": {
    "name": "ipython",
    "version": 3
   },
   "file_extension": ".py",
   "mimetype": "text/x-python",
   "name": "python",
   "nbconvert_exporter": "python",
   "pygments_lexer": "ipython3",
   "version": "3.6.3"
  }
 },
 "nbformat": 4,
 "nbformat_minor": 2
}
