{
 "cells": [
  {
   "cell_type": "code",
   "execution_count": 88,
   "metadata": {
    "collapsed": true
   },
   "outputs": [],
   "source": [
    "import heapq\n",
    "\n",
    "with open(\"median.txt\") as f:\n",
    "    data = f.readlines()\n",
    "    data = [int(x) for x in data]        "
   ]
  },
  {
   "cell_type": "code",
   "execution_count": 92,
   "metadata": {},
   "outputs": [],
   "source": [
    "def get_median(new,med,smaller,larger):\n",
    "    \n",
    "    # If smaller heap is larger, we may need to rebalance\n",
    "    if len(smaller) > len(larger):\n",
    "        if new < med:\n",
    "            heapq.heappush(larger,-heapq.heappop(smaller))\n",
    "            heapq.heappush(smaller,-new)\n",
    "        else:\n",
    "            heapq.heappush(larger,new)\n",
    "        \n",
    "        return -smaller[0]\n",
    "    \n",
    "     # If larger heap is larger, we may need to rebalance\n",
    "    if len(smaller) < len(larger):\n",
    "        if new < med: \n",
    "            heapq.heappush(smaller,-new)\n",
    "        else: \n",
    "            heapq.heappush(smaller,-heapq.heappop(larger))\n",
    "            heapq.heappush(larger,new)\n",
    "            \n",
    "        return -smaller[0]\n",
    "    \n",
    "    # If both heaps equal length, just insert where it fits\n",
    "    if new < med:\n",
    "        heapq.heappush(smaller,-new)\n",
    "        return -smaller[0]\n",
    "    else:\n",
    "        heapq.heappush(larger,new)\n",
    "        return larger[0]"
   ]
  },
  {
   "cell_type": "code",
   "execution_count": 93,
   "metadata": {},
   "outputs": [],
   "source": [
    "med = 0\n",
    "total_med = 0\n",
    "min_heap = []\n",
    "max_heap = []\n",
    "\n",
    "for x in data:\n",
    "    med = get_median(x,med,min_heap,max_heap)\n",
    "    total_med += med"
   ]
  },
  {
   "cell_type": "code",
   "execution_count": 94,
   "metadata": {},
   "outputs": [
    {
     "data": {
      "text/plain": [
       "1213"
      ]
     },
     "execution_count": 94,
     "metadata": {},
     "output_type": "execute_result"
    }
   ],
   "source": [
    "total_med % 10000"
   ]
  }
 ],
 "metadata": {
  "kernelspec": {
   "display_name": "Python 3",
   "language": "python",
   "name": "python3"
  },
  "language_info": {
   "codemirror_mode": {
    "name": "ipython",
    "version": 3
   },
   "file_extension": ".py",
   "mimetype": "text/x-python",
   "name": "python",
   "nbconvert_exporter": "python",
   "pygments_lexer": "ipython3",
   "version": "3.6.3"
  }
 },
 "nbformat": 4,
 "nbformat_minor": 2
}
