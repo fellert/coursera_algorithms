{
 "cells": [
  {
   "cell_type": "code",
   "execution_count": 9,
   "metadata": {
    "collapsed": true
   },
   "outputs": [],
   "source": [
    "import numpy as np\n",
    "\n",
    "with open(\"numbers.txt\") as f:\n",
    "    data = f.read().splitlines()\n",
    "    data = [int(x) for x in data]"
   ]
  },
  {
   "cell_type": "code",
   "execution_count": 2,
   "metadata": {
    "collapsed": true
   },
   "outputs": [],
   "source": [
    "def quick_sort(array,start,end):\n",
    "    \n",
    "    if end <= start:\n",
    "        return\n",
    "\n",
    "    p = array[start]\n",
    "    j = start\n",
    "\n",
    "    for i in range(start+1, end):\n",
    "        current = array[i]\n",
    "        if current < p:\n",
    "            j += 1\n",
    "            array[i] = array[j]\n",
    "            array[j] = current\n",
    "\n",
    "    array[start] = array[j]\n",
    "    array[j] = p\n",
    "\n",
    "    quick_sort(array,start,j)\n",
    "    quick_sort(array,j+1,end)"
   ]
  },
  {
   "cell_type": "code",
   "execution_count": 3,
   "metadata": {
    "collapsed": true
   },
   "outputs": [],
   "source": [
    "def binary_search(array,target,lo,hi):\n",
    "    \n",
    "    if hi < lo:\n",
    "        return lo\n",
    "    \n",
    "    mid = ((hi - lo) // 2) + lo \n",
    "    \n",
    "    if array[mid] == target:\n",
    "        return mid\n",
    "    elif target < array[mid]:\n",
    "        return binary_search(array,target,lo,mid-1)\n",
    "    else:\n",
    "        return binary_search(array,target,mid+1,hi)"
   ]
  },
  {
   "cell_type": "code",
   "execution_count": 12,
   "metadata": {
    "collapsed": true
   },
   "outputs": [],
   "source": [
    "quick_sort(data,0,len(data))"
   ]
  },
  {
   "cell_type": "code",
   "execution_count": 5,
   "metadata": {
    "collapsed": true
   },
   "outputs": [],
   "source": [
    "# def sums_to_two(array,target,lookup):\n",
    "#     for x in array:\n",
    "#         if (target - x) in lookup and (target - x) != x:\n",
    "#             return True\n",
    "#     return False"
   ]
  },
  {
   "cell_type": "code",
   "execution_count": 6,
   "metadata": {
    "collapsed": true
   },
   "outputs": [],
   "source": [
    "# lookup = {}\n",
    "# for x in data:\n",
    "#     lookup[x] = 1\n",
    "\n",
    "# count = 0\n",
    "\n",
    "# for x in range(-10000,10001):\n",
    "#     if sums_to_two(data,x,lookup):\n",
    "#         count += 1 "
   ]
  },
  {
   "cell_type": "code",
   "execution_count": 13,
   "metadata": {
    "collapsed": true
   },
   "outputs": [],
   "source": [
    "hi = len(data) - 1\n",
    "lo = 0\n",
    "valid_sums = []\n",
    "\n",
    "for x in data:\n",
    "    lower = binary_search(data,-10000-x,0,len(data)-1)\n",
    "    upper = binary_search(data,10000-x,0,len(data)-1)\n",
    "    sums = [x + i for i in data[lower:upper]]\n",
    "    valid_sums.extend([x for x in sums if x >= -10000 or x <= 10000])"
   ]
  },
  {
   "cell_type": "code",
   "execution_count": 14,
   "metadata": {},
   "outputs": [
    {
     "data": {
      "text/plain": [
       "427"
      ]
     },
     "execution_count": 14,
     "metadata": {},
     "output_type": "execute_result"
    }
   ],
   "source": [
    "len(np.unique(valid_sums))"
   ]
  }
 ],
 "metadata": {
  "kernelspec": {
   "display_name": "Python 3",
   "language": "python",
   "name": "python3"
  },
  "language_info": {
   "codemirror_mode": {
    "name": "ipython",
    "version": 3
   },
   "file_extension": ".py",
   "mimetype": "text/x-python",
   "name": "python",
   "nbconvert_exporter": "python",
   "pygments_lexer": "ipython3",
   "version": "3.6.3"
  }
 },
 "nbformat": 4,
 "nbformat_minor": 2
}
