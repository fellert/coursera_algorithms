{
 "cells": [
  {
   "cell_type": "code",
   "execution_count": 30,
   "metadata": {},
   "outputs": [],
   "source": [
    "import math\n",
    "def multiply(num1,num2):\n",
    "    \n",
    "    if (num1 < 10) and (num2 < 10):\n",
    "        return num1 * num2\n",
    "    \n",
    "    m = math.floor(max(len(str(num1)),len(str(num2))) / 2 )\n",
    "\n",
    "    a = (num1 // 10**(m))\n",
    "    b = (num1 % 10**(m))\n",
    "    c = (num2 // 10**(m))\n",
    "    d = (num2 % 10**(m))\n",
    "     \n",
    "    z1 = multiply(a,c) \n",
    "    z2 = multiply(b,d)\n",
    "    z3 = multiply(a+b,c+d) - z2 - z1\n",
    "    \n",
    "    result = (z1 * 10**(2*m)) + (z3 * 10**m) + z2\n",
    "    \n",
    "    return result"
   ]
  },
  {
   "cell_type": "code",
   "execution_count": 31,
   "metadata": {},
   "outputs": [
    {
     "data": {
      "text/plain": [
       "8539734222673567065463550869546574495034888535765114961879601127067743044893204848617875072216249073013374895871952806582723184"
      ]
     },
     "execution_count": 31,
     "metadata": {},
     "output_type": "execute_result"
    }
   ],
   "source": [
    "x = 3141592653589793238462643383279502884197169399375105820974944592\n",
    "y = 2718281828459045235360287471352662497757247093699959574966967627\n",
    "\n",
    "multiply(x,y)"
   ]
  },
  {
   "cell_type": "code",
   "execution_count": null,
   "metadata": {
    "collapsed": true
   },
   "outputs": [],
   "source": []
  }
 ],
 "metadata": {
  "kernelspec": {
   "display_name": "Python 3",
   "language": "python",
   "name": "python3"
  },
  "language_info": {
   "codemirror_mode": {
    "name": "ipython",
    "version": 3
   },
   "file_extension": ".py",
   "mimetype": "text/x-python",
   "name": "python",
   "nbconvert_exporter": "python",
   "pygments_lexer": "ipython3",
   "version": "3.6.3"
  }
 },
 "nbformat": 4,
 "nbformat_minor": 2
}
