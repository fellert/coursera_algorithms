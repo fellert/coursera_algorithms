{
 "cells": [
  {
   "cell_type": "code",
   "execution_count": 65,
   "metadata": {
    "collapsed": true
   },
   "outputs": [],
   "source": [
    "with open(\"clustering.txt\") as f:\n",
    "    edges = f.read().splitlines()\n",
    "    edges.pop(0)\n",
    "    for line in range(len(edges)):\n",
    "        edges[line] = [int(x) for x in edges[line].split(\" \")]"
   ]
  },
  {
   "cell_type": "code",
   "execution_count": 66,
   "metadata": {
    "collapsed": true
   },
   "outputs": [],
   "source": [
    "edges_sorted = list(sorted(edges, key=lambda x: x[2]))"
   ]
  },
  {
   "cell_type": "code",
   "execution_count": 302,
   "metadata": {
    "collapsed": true
   },
   "outputs": [],
   "source": [
    "def create_parent_rank(edges):\n",
    "    parent = {}\n",
    "    rank = {}\n",
    "    for edge in edges:\n",
    "        v1, v2, weight = edge\n",
    "        if v1 not in parent:\n",
    "            parent[v1] = v1\n",
    "            rank[v1] = 0 \n",
    "        if v2 not in parent:\n",
    "            parent[v2] = v2\n",
    "            rank[v2] = 0 \n",
    "    return parent, rank"
   ]
  },
  {
   "cell_type": "code",
   "execution_count": 303,
   "metadata": {
    "collapsed": true
   },
   "outputs": [],
   "source": [
    "def find_parent(vert):\n",
    "    \n",
    "    if parent[vert] == vert:\n",
    "        return vert\n",
    "    \n",
    "    return(find_parent(parent[vert]))"
   ]
  },
  {
   "cell_type": "code",
   "execution_count": 304,
   "metadata": {
    "collapsed": true
   },
   "outputs": [],
   "source": [
    "def union(vert1,vert2):\n",
    "    \n",
    "    root1 = find_parent(vert1)\n",
    "    root2 = find_parent(vert2)\n",
    "    \n",
    "    if rank[root1] < rank[root2]:\n",
    "        parent[root1] = root2\n",
    "    elif rank[root1] > rank[root2]:\n",
    "        parent[root2] = root1\n",
    "    else:\n",
    "        parent[root2] = root1\n",
    "        rank[root1] += 1"
   ]
  },
  {
   "cell_type": "code",
   "execution_count": 305,
   "metadata": {
    "collapsed": true
   },
   "outputs": [],
   "source": [
    "e = 0\n",
    "i = 0\n",
    "T = []\n",
    "parent, rank = create_parent_rank(edges_sorted)\n",
    "\n",
    "while e < (len(parent) - 1): \n",
    "    v1, v2, cost = edges_sorted[i]\n",
    "    \n",
    "    if find_parent(v1) != find_parent(v2): \n",
    "        e += 1\n",
    "        T.append(edges_sorted[i])\n",
    "        union(v1,v2)\n",
    "    i += 1        "
   ]
  },
  {
   "cell_type": "markdown",
   "metadata": {},
   "source": [
    "#### For k clusters, the k-1 edge represents the maximum spacing"
   ]
  },
  {
   "cell_type": "code",
   "execution_count": 306,
   "metadata": {},
   "outputs": [
    {
     "data": {
      "text/plain": [
       "[414, 455, 106]"
      ]
     },
     "execution_count": 306,
     "metadata": {},
     "output_type": "execute_result"
    }
   ],
   "source": [
    "T[-3]"
   ]
  },
  {
   "cell_type": "markdown",
   "metadata": {},
   "source": [
    "### Big Clusters"
   ]
  },
  {
   "cell_type": "code",
   "execution_count": 354,
   "metadata": {
    "collapsed": true
   },
   "outputs": [],
   "source": [
    "with open(\"clustering_big.txt\") as f:\n",
    "    data = f.read().splitlines()\n",
    "    data.pop(0) \n",
    "    \n",
    "    verticies = []\n",
    "    \n",
    "    for line in data:\n",
    "        line = line.rstrip()\n",
    "        line = line.split(\" \")\n",
    "        line = \"\".join(line)\n",
    "        verticies.append(line)"
   ]
  },
  {
   "cell_type": "code",
   "execution_count": 355,
   "metadata": {
    "collapsed": true
   },
   "outputs": [],
   "source": [
    "def get_neighbors(v):\n",
    "\n",
    "    options = []\n",
    "    \n",
    "    for x in range(len(v)):\n",
    "        temp1 = list(v)\n",
    "        if temp1[x] == \"1\":\n",
    "            temp1[x] = \"0\"\n",
    "        else:\n",
    "            temp1[x] = \"1\"\n",
    "        options.append(\"\".join(temp1))\n",
    "        for y in range(x+1,len(v)):\n",
    "            temp2 = temp1[:]\n",
    "            if temp1[y] == \"1\":\n",
    "                temp2[y] = \"0\"\n",
    "            else:\n",
    "                temp2[y] = \"1\"\n",
    "            options.append(\"\".join(temp2))  \n",
    "    \n",
    "    return options"
   ]
  },
  {
   "cell_type": "code",
   "execution_count": 366,
   "metadata": {},
   "outputs": [
    {
     "name": "stdout",
     "output_type": "stream",
     "text": [
      "6118\n"
     ]
    }
   ],
   "source": [
    "parent = {x: x for x in verticies}\n",
    "rank = {x: 0 for x in verticies}\n",
    "clusters = len(parent)\n",
    "\n",
    "for verticie in parent:\n",
    "    for neighbor in get_neighbors(verticie):\n",
    "        if neighbor in parent:\n",
    "            if find_parent(verticie) != find_parent(neighbor):\n",
    "                union(verticie,neighbor)\n",
    "                clusters -= 1\n",
    "\n",
    "# print(len(set(parent.values())))\n",
    "print(clusters)"
   ]
  }
 ],
 "metadata": {
  "kernelspec": {
   "display_name": "Python 3",
   "language": "python",
   "name": "python3"
  },
  "language_info": {
   "codemirror_mode": {
    "name": "ipython",
    "version": 3
   },
   "file_extension": ".py",
   "mimetype": "text/x-python",
   "name": "python",
   "nbconvert_exporter": "python",
   "pygments_lexer": "ipython3",
   "version": "3.6.3"
  }
 },
 "nbformat": 4,
 "nbformat_minor": 2
}
