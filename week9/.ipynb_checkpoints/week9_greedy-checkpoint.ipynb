{
 "cells": [
  {
   "cell_type": "code",
   "execution_count": 167,
   "metadata": {
    "collapsed": true
   },
   "outputs": [],
   "source": [
    "with open(\"jobs.txt\") as f:\n",
    "    jobs = f.read().splitlines()\n",
    "    jobs.pop(0)\n",
    "    for line in range(len(jobs)):\n",
    "        jobs[line] = [int(x) for x in jobs[line].split(\" \")]"
   ]
  },
  {
   "cell_type": "markdown",
   "metadata": {},
   "source": [
    "### By Weight(j) - Length(j)"
   ]
  },
  {
   "cell_type": "code",
   "execution_count": 168,
   "metadata": {
    "collapsed": true
   },
   "outputs": [],
   "source": [
    "diff = []\n",
    "\n",
    "for x in jobs:\n",
    "    diff.append(x + [x[0] - x[1]])  "
   ]
  },
  {
   "cell_type": "code",
   "execution_count": 169,
   "metadata": {
    "collapsed": true
   },
   "outputs": [],
   "source": [
    "sorted_jobs = sorted(diff, key=lambda x: (x[2], x[0]), reverse=True)"
   ]
  },
  {
   "cell_type": "code",
   "execution_count": 170,
   "metadata": {
    "collapsed": true
   },
   "outputs": [],
   "source": [
    "c = 0\n",
    "runtime = 0\n",
    "\n",
    "for job in sorted_jobs:\n",
    "    c += job[1]\n",
    "    runtime += (job[0] * c)"
   ]
  },
  {
   "cell_type": "code",
   "execution_count": 171,
   "metadata": {},
   "outputs": [
    {
     "data": {
      "text/plain": [
       "69119377652"
      ]
     },
     "execution_count": 171,
     "metadata": {},
     "output_type": "execute_result"
    }
   ],
   "source": [
    "runtime"
   ]
  },
  {
   "cell_type": "markdown",
   "metadata": {},
   "source": [
    "### By Weight(j) / Length(j)"
   ]
  },
  {
   "cell_type": "code",
   "execution_count": 172,
   "metadata": {
    "collapsed": true
   },
   "outputs": [],
   "source": [
    "ratio = []\n",
    "\n",
    "for x in jobs:\n",
    "    ratio.append(x + [x[0] / x[1]]) "
   ]
  },
  {
   "cell_type": "code",
   "execution_count": 173,
   "metadata": {
    "collapsed": true
   },
   "outputs": [],
   "source": [
    "sorted_jobs = sorted(ratio, key=lambda x: (x[2], x[0]), reverse=True)"
   ]
  },
  {
   "cell_type": "code",
   "execution_count": 174,
   "metadata": {
    "collapsed": true
   },
   "outputs": [],
   "source": [
    "c = 0\n",
    "runtime = 0\n",
    "\n",
    "for job in sorted_jobs:\n",
    "    c += job[1]\n",
    "    runtime += (job[0] * c)"
   ]
  },
  {
   "cell_type": "code",
   "execution_count": 175,
   "metadata": {},
   "outputs": [
    {
     "data": {
      "text/plain": [
       "67311454237"
      ]
     },
     "execution_count": 175,
     "metadata": {},
     "output_type": "execute_result"
    }
   ],
   "source": [
    "runtime"
   ]
  },
  {
   "cell_type": "markdown",
   "metadata": {},
   "source": [
    "### Prim's Algorithm"
   ]
  },
  {
   "cell_type": "code",
   "execution_count": 14,
   "metadata": {
    "collapsed": true
   },
   "outputs": [],
   "source": [
    "with open(\"edges.txt\") as f:\n",
    "    edges = f.read().splitlines()\n",
    "    edges.pop(0)\n",
    "    for line in range(len(edges)):\n",
    "        edges[line] = [int(x) for x in edges[line].split(\" \")]"
   ]
  },
  {
   "cell_type": "code",
   "execution_count": 15,
   "metadata": {},
   "outputs": [],
   "source": [
    "# edges = {}\n",
    "\n",
    "# for line in data:\n",
    "#     edges[(line[0],line[1])] = line[2]"
   ]
  },
  {
   "cell_type": "code",
   "execution_count": 16,
   "metadata": {},
   "outputs": [],
   "source": [
    "# adj_matrix = {}\n",
    "\n",
    "# for line in data:\n",
    "#     if line[0] not in adj_matrix:\n",
    "#         adj_matrix[line[0]] = [line[1]]\n",
    "#     else:\n",
    "#         adj_matrix[line[0]].append(line[1])"
   ]
  },
  {
   "cell_type": "code",
   "execution_count": 17,
   "metadata": {
    "collapsed": true
   },
   "outputs": [],
   "source": [
    "verticies = list(set([x[0] for x in edges]))\n",
    "verticies += list(set([x[1] for x in edges if x[1] not in verticies]))"
   ]
  },
  {
   "cell_type": "code",
   "execution_count": 20,
   "metadata": {},
   "outputs": [],
   "source": [
    "X = [1]\n",
    "T = []\n",
    "\n",
    "while len(X) < len(verticies):\n",
    "\n",
    "    options = [i for i in edges if (i[0] in X) and (i[1] not in X)]\n",
    "    options += [i for i in edges if (i[0] not in X) and (i[1] in X)]\n",
    "    cheapest = sorted(options, key=lambda i: (i[2]))[0]\n",
    "    T.append(cheapest)\n",
    "    \n",
    "    if cheapest[0] not in X:  \n",
    "        X.append(cheapest[0])\n",
    "    else:\n",
    "        X.append(cheapest[1])"
   ]
  },
  {
   "cell_type": "code",
   "execution_count": 21,
   "metadata": {},
   "outputs": [
    {
     "data": {
      "text/plain": [
       "-3612829"
      ]
     },
     "execution_count": 21,
     "metadata": {},
     "output_type": "execute_result"
    }
   ],
   "source": [
    "cost = 0\n",
    "\n",
    "for edge in T:\n",
    "    cost += edge[2]\n",
    "\n",
    "cost"
   ]
  },
  {
   "cell_type": "code",
   "execution_count": null,
   "metadata": {
    "collapsed": true
   },
   "outputs": [],
   "source": []
  }
 ],
 "metadata": {
  "kernelspec": {
   "display_name": "Python 3",
   "language": "python",
   "name": "python3"
  },
  "language_info": {
   "codemirror_mode": {
    "name": "ipython",
    "version": 3
   },
   "file_extension": ".py",
   "mimetype": "text/x-python",
   "name": "python",
   "nbconvert_exporter": "python",
   "pygments_lexer": "ipython3",
   "version": "3.6.3"
  }
 },
 "nbformat": 4,
 "nbformat_minor": 2
}
