{
 "cells": [
  {
   "cell_type": "code",
   "execution_count": 2,
   "metadata": {
    "collapsed": true
   },
   "outputs": [],
   "source": [
    "import random\n",
    "\n",
    "with open(\"graph.txt\") as f:\n",
    "    data = f.readlines()\n",
    "    data = [x.split('\\t') for x in data]"
   ]
  },
  {
   "cell_type": "code",
   "execution_count": 3,
   "metadata": {
    "collapsed": true
   },
   "outputs": [],
   "source": [
    "def create_graph(data):\n",
    "    graph = {}\n",
    "    for line in data:\n",
    "        graph[line[0]] = [str(x) for x in line[1:] if x != '\\n']\n",
    "    return graph"
   ]
  },
  {
   "cell_type": "code",
   "execution_count": 76,
   "metadata": {},
   "outputs": [
    {
     "name": "stdout",
     "output_type": "stream",
     "text": [
      "31\n",
      "29\n",
      "17\n",
      "17\n",
      "17\n",
      "17\n",
      "17\n",
      "17\n",
      "17\n",
      "17\n",
      "17\n",
      "17\n",
      "17\n",
      "17\n",
      "17\n",
      "17\n",
      "17\n",
      "17\n",
      "17\n",
      "17\n"
     ]
    }
   ],
   "source": [
    "possible_cuts = []\n",
    "\n",
    "for i in range(20):\n",
    "\n",
    "    graph = create_graph(data)\n",
    "\n",
    "    while len(graph) > 2:\n",
    "\n",
    "        v1 = random.choice(list(graph.keys()))\n",
    "        v2 = random.choice(graph[v1])\n",
    "\n",
    "        graph[v1] += graph[v2]\n",
    "        del graph[v2]\n",
    "\n",
    "        for vert in graph:\n",
    "            graph[vert] = [v1 if x == v2 else x for x in graph[vert]]\n",
    "\n",
    "        graph[v1] = [x for x in graph[v1] if x != v1]\n",
    "        \n",
    "    for vert in graph:\n",
    "        possible_cuts.append(graph[vert])\n",
    "        \n",
    "    print(min([len(x) for x in possible_cuts]))   "
   ]
  },
  {
   "cell_type": "code",
   "execution_count": null,
   "metadata": {
    "collapsed": true
   },
   "outputs": [],
   "source": []
  }
 ],
 "metadata": {
  "kernelspec": {
   "display_name": "Python 3",
   "language": "python",
   "name": "python3"
  },
  "language_info": {
   "codemirror_mode": {
    "name": "ipython",
    "version": 3
   },
   "file_extension": ".py",
   "mimetype": "text/x-python",
   "name": "python",
   "nbconvert_exporter": "python",
   "pygments_lexer": "ipython3",
   "version": "3.6.3"
  }
 },
 "nbformat": 4,
 "nbformat_minor": 2
}
