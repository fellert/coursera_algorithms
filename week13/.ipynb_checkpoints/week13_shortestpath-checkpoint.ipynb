{
 "cells": [
  {
   "cell_type": "code",
   "execution_count": 190,
   "metadata": {
    "collapsed": true
   },
   "outputs": [],
   "source": [
    "import numpy as np\n",
    "import math\n",
    "\n",
    "files = [\"graph1.txt\",\"graph2.txt\",\"graph3.txt\"]\n",
    "graphs = []\n",
    "\n",
    "for file in files:\n",
    "    with open(file) as f:\n",
    "        data = f.read().splitlines()\n",
    "        E = {}\n",
    "        for line in data[1:]:\n",
    "            line = line.split()\n",
    "            E[int(line[0]),int(line[1])] = int(line[2])\n",
    "    graphs.append(E)   "
   ]
  },
  {
   "cell_type": "code",
   "execution_count": 196,
   "metadata": {},
   "outputs": [],
   "source": [
    "def fw(E):\n",
    "\n",
    "    V = len(list(set([x[0] for x in E.keys()])))\n",
    "    A = np.ones([V,V]) * math.inf\n",
    "\n",
    "    for i in range(V):\n",
    "        A[i,i] = 0 \n",
    "        for j in range(V):\n",
    "            if (i,j) in E:\n",
    "                A[i,j] = E[(i,j)]\n",
    "\n",
    "    for k in range(1,V):\n",
    "        for i in range(1,V):\n",
    "            for j in range(1,V):\n",
    "                A[i,j] = min(A[i][j], A[i][k] + A[k][j])\n",
    "\n",
    "            if A[i,i] < 0:\n",
    "                print(\"Negative Cycle\")\n",
    "                return\n",
    "    \n",
    "    print(A.min())\n",
    "    return\n"
   ]
  },
  {
   "cell_type": "code",
   "execution_count": 197,
   "metadata": {},
   "outputs": [
    {
     "name": "stdout",
     "output_type": "stream",
     "text": [
      "Negative Cycle\n",
      "Negative Cycle\n",
      "-19.0\n"
     ]
    }
   ],
   "source": [
    "for graph in graphs:\n",
    "    fw(graph)"
   ]
  },
  {
   "cell_type": "code",
   "execution_count": null,
   "metadata": {
    "collapsed": true
   },
   "outputs": [],
   "source": []
  }
 ],
 "metadata": {
  "kernelspec": {
   "display_name": "Python 3",
   "language": "python",
   "name": "python3"
  },
  "language_info": {
   "codemirror_mode": {
    "name": "ipython",
    "version": 3
   },
   "file_extension": ".py",
   "mimetype": "text/x-python",
   "name": "python",
   "nbconvert_exporter": "python",
   "pygments_lexer": "ipython3",
   "version": "3.6.3"
  }
 },
 "nbformat": 4,
 "nbformat_minor": 2
}
