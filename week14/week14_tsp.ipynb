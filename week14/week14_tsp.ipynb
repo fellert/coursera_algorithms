{
 "cells": [
  {
   "cell_type": "code",
   "execution_count": 206,
   "metadata": {},
   "outputs": [],
   "source": [
    "import math\n",
    "from itertools import combinations\n",
    "import numpy as np\n",
    "import time\n",
    "\n",
    "start = time.time()\n",
    "\n",
    "with open(\"tsp.txt\") as f:\n",
    "    data = f.read().splitlines()\n",
    "    cities = []\n",
    "    for line in data:\n",
    "        cities.append([float(x) for x in line.split(\" \")])"
   ]
  },
  {
   "cell_type": "code",
   "execution_count": 223,
   "metadata": {
    "collapsed": true
   },
   "outputs": [],
   "source": [
    "def distances(cities):\n",
    "    \n",
    "    d = {}\n",
    "    \n",
    "    for x in range(len(cities)):\n",
    "        for y in range(len(cities)):\n",
    "            d[(x+1,y+1)] = get_distance(cities[x],cities[y])\n",
    "    \n",
    "    return d\n",
    "  \n",
    "def get_distance(c1,c2):\n",
    "    \n",
    "    return math.sqrt((c1[0] - c2[0])**2 + (c1[1] - c2[1])**2)\n"
   ]
  },
  {
   "cell_type": "code",
   "execution_count": 307,
   "metadata": {},
   "outputs": [],
   "source": [
    "def tour(cities,dist):\n",
    "    \n",
    "    # Node number for use in creating combinations below\n",
    "    indexes = list(range(1,len(cities)))\n",
    "\n",
    "    # Create hash table A - set with \"1\" is set to zero and everything else is \"+infinity\"\n",
    "    A = {}\n",
    "\n",
    "    for x in indexes:\n",
    "        A[(x,)] = {1: math.inf} \n",
    "    \n",
    "    A[(1,)] = {1: 0} \n",
    "\n",
    "    for m in range(2,len(cities)):  \n",
    "\n",
    "        prev = A\n",
    "        A = {}\n",
    "        \n",
    "        # Create all possible sets\n",
    "        for S in combinations(indexes,m):\n",
    "            # If set contains 1 (starting vertex) then continue\n",
    "            if 1 in S:\n",
    "                A[S] = {1: math.inf}\n",
    "                for j in S[1:]:\n",
    "                    A[S][j] = min([prev[tuple(i for i in S if i != j)][k] + dist[(k,j)] for k in S if k != j])\n",
    "\n",
    "    return min(A[i][2] + dist[2,1] for i in A.keys())"
   ]
  },
  {
   "cell_type": "code",
   "execution_count": 314,
   "metadata": {},
   "outputs": [],
   "source": [
    "# Split up the dataset into two smaller tours\n",
    "left_cities = [13] + cities[1:14]\n",
    "right_cities = [13] + cities[12:]\n",
    "left_dist = distances(cities[1:14])\n",
    "right_dist = distances(cities[12:])\n",
    "\n",
    "left_tour = tour(left_cities,left_dist)\n",
    "right_tour = tour(right_cities,right_dist)"
   ]
  },
  {
   "cell_type": "code",
   "execution_count": 315,
   "metadata": {},
   "outputs": [
    {
     "data": {
      "text/plain": [
       "26442.730308954753"
      ]
     },
     "execution_count": 315,
     "metadata": {},
     "output_type": "execute_result"
    }
   ],
   "source": [
    "# Add the min result from the two tour and subtract the common edge length\n",
    "common_edge = get_distance(cities[12],cities[13])\n",
    "\n",
    "min_dist = left_tour + right_tour - 2*(common_edge)\n",
    "print(min_dist)\n",
    "\n",
    "end = time.time()\n",
    "print(end-start)"
   ]
  }
 ],
 "metadata": {
  "kernelspec": {
   "display_name": "Python 3",
   "language": "python",
   "name": "python3"
  },
  "language_info": {
   "codemirror_mode": {
    "name": "ipython",
    "version": 3
   },
   "file_extension": ".py",
   "mimetype": "text/x-python",
   "name": "python",
   "nbconvert_exporter": "python",
   "pygments_lexer": "ipython3",
   "version": "3.6.3"
  }
 },
 "nbformat": 4,
 "nbformat_minor": 2
}
