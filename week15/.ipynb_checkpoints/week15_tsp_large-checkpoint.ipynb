{
 "cells": [
  {
   "cell_type": "code",
   "execution_count": 1,
   "metadata": {
    "collapsed": true
   },
   "outputs": [],
   "source": [
    "from itertools import combinations\n",
    "import math"
   ]
  },
  {
   "cell_type": "code",
   "execution_count": 2,
   "metadata": {
    "collapsed": true
   },
   "outputs": [],
   "source": [
    "with open(\"tsp_large.txt\") as f:\n",
    "    data = f.read().splitlines()\n",
    "    cities = []\n",
    "    for i in data[1:]:\n",
    "        i = i.split(\" \")\n",
    "        cities.append([float(i[1]),float(i[2])])"
   ]
  },
  {
   "cell_type": "code",
   "execution_count": 11,
   "metadata": {
    "collapsed": true
   },
   "outputs": [],
   "source": [
    "def distance(c1,c2):\n",
    "    \n",
    "    return math.sqrt((c1[0] - c2[0])**2 + (c1[1] - c2[1])**2)\n",
    "\n",
    "def absolute(c1,c2):\n",
    "    \n",
    "    return(abs(c1[0] - c2[0]))"
   ]
  },
  {
   "cell_type": "code",
   "execution_count": 146,
   "metadata": {},
   "outputs": [],
   "source": [
    "def tour(cities):\n",
    "    \n",
    "    start = 0\n",
    "    visited = {0: 1}\n",
    "    tour = 0\n",
    "\n",
    "    while len(visited) < len(cities):  \n",
    "    \n",
    "        nearest = find_nearest(cities,visited,start)\n",
    "        tour += distance(cities[start],cities[nearest])\n",
    "        visited[nearest] = 1\n",
    "        start = nearest    \n",
    "        \n",
    "    tour += distance(cities[0],cities[nearest])\n",
    "                    \n",
    "    return tour"
   ]
  },
  {
   "cell_type": "code",
   "execution_count": 147,
   "metadata": {
    "collapsed": true
   },
   "outputs": [],
   "source": [
    "def find_nearest(cities,visited,start):\n",
    "    \n",
    "    hop_to = 0\n",
    "    min_dist = 1000000\n",
    "    x_dist = 0\n",
    "\n",
    "    for i in range(len(cities)):\n",
    "\n",
    "        if i not in visited:\n",
    "\n",
    "            dist = distance(cities[start],cities[i])\n",
    "            x_dist = absolute(cities[start],cities[i])\n",
    "\n",
    "            if dist < min_dist:\n",
    "                min_dist = dist\n",
    "                hop_to = i\n",
    "\n",
    "            if x_dist > min_dist:\n",
    "                return hop_to\n",
    "    \n",
    "    return hop_to\n"
   ]
  },
  {
   "cell_type": "code",
   "execution_count": 151,
   "metadata": {},
   "outputs": [
    {
     "data": {
      "text/plain": [
       "1203406.5012708856"
      ]
     },
     "execution_count": 151,
     "metadata": {},
     "output_type": "execute_result"
    }
   ],
   "source": [
    "tour(cities)"
   ]
  }
 ],
 "metadata": {
  "kernelspec": {
   "display_name": "Python 3",
   "language": "python",
   "name": "python3"
  },
  "language_info": {
   "codemirror_mode": {
    "name": "ipython",
    "version": 3
   },
   "file_extension": ".py",
   "mimetype": "text/x-python",
   "name": "python",
   "nbconvert_exporter": "python",
   "pygments_lexer": "ipython3",
   "version": "3.6.3"
  }
 },
 "nbformat": 4,
 "nbformat_minor": 2
}
