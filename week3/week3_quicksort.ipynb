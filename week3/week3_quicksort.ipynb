{
 "cells": [
  {
   "cell_type": "code",
   "execution_count": 1,
   "metadata": {
    "collapsed": true
   },
   "outputs": [],
   "source": [
    "import math\n",
    "import time\n",
    "from random import shuffle\n",
    "\n",
    "with open(\"quicksort.txt\") as f:\n",
    "    data = f.read().splitlines()"
   ]
  },
  {
   "cell_type": "code",
   "execution_count": 2,
   "metadata": {
    "collapsed": true
   },
   "outputs": [],
   "source": [
    "def quick_sort_first(array,start,end):\n",
    "    global calcs\n",
    "\n",
    "    if end <= start:\n",
    "        return\n",
    "\n",
    "    p = array[start]\n",
    "    j = start\n",
    "\n",
    "    for i in range(start+1, end):\n",
    "        calcs += 1\n",
    "        current = array[i]\n",
    "        if current < p:\n",
    "            j += 1\n",
    "            array[i] = array[j]\n",
    "            array[j] = current\n",
    "\n",
    "    array[start] = array[j]\n",
    "    array[j] = p\n",
    "\n",
    "    quick_sort_first(array,start,j)\n",
    "    quick_sort_first(array,j+1,end)"
   ]
  },
  {
   "cell_type": "code",
   "execution_count": 3,
   "metadata": {},
   "outputs": [
    {
     "data": {
      "text/plain": [
       "162085"
      ]
     },
     "execution_count": 3,
     "metadata": {},
     "output_type": "execute_result"
    }
   ],
   "source": [
    "nums = [int(x) for x in data]\n",
    "\n",
    "calcs = 0\n",
    "quick_sort_first(nums,0,len(nums))\n",
    "calcs"
   ]
  },
  {
   "cell_type": "code",
   "execution_count": 7,
   "metadata": {
    "collapsed": true
   },
   "outputs": [],
   "source": [
    "def quick_sort_last(array,start,end):\n",
    "    global calcs\n",
    "\n",
    "    if end <= start:\n",
    "        return\n",
    "\n",
    "    p = array[end]\n",
    "    array[end] = array[start]\n",
    "    array[start] = p\n",
    "    j = start\n",
    "\n",
    "    for i in range(start+1, end+1):\n",
    "        calcs += 1\n",
    "        current = array[i]\n",
    "        if current < p:\n",
    "            j += 1\n",
    "            array[i] = array[j]\n",
    "            array[j] = current\n",
    "\n",
    "    array[start] = array[j]\n",
    "    array[j] = p\n",
    "\n",
    "    quick_sort_last(array,start,j-1)\n",
    "    quick_sort_last(array,j+1,end)\n"
   ]
  },
  {
   "cell_type": "code",
   "execution_count": 8,
   "metadata": {
    "collapsed": true
   },
   "outputs": [],
   "source": [
    "# def quick_sort_last(array,start,end):\n",
    "#     global calcs\n",
    "\n",
    "#     if end <= start:\n",
    "#         return\n",
    "\n",
    "#     p = array[end]\n",
    "#     j = start\n",
    "\n",
    "#     for i in range(start, end):\n",
    "#         calcs += 1\n",
    "#         current = array[i]\n",
    "#         if current < p:\n",
    "#             array[i] = array[j]\n",
    "#             array[j] = current\n",
    "#             j += 1\n",
    "\n",
    "\n",
    "#     array[end] = array[j]\n",
    "#     array[j] = p\n",
    "\n",
    "#     quick_sort_last(array,start,j-1)\n",
    "#     quick_sort_last(array,j+1,end)"
   ]
  },
  {
   "cell_type": "code",
   "execution_count": 28,
   "metadata": {},
   "outputs": [
    {
     "data": {
      "text/plain": [
       "164123"
      ]
     },
     "execution_count": 28,
     "metadata": {},
     "output_type": "execute_result"
    }
   ],
   "source": [
    "nums = [int(x) for x in data]\n",
    "\n",
    "calcs = 0\n",
    "quick_sort_last(nums,0,len(nums)-1)\n",
    "calcs"
   ]
  },
  {
   "cell_type": "code",
   "execution_count": 26,
   "metadata": {
    "collapsed": true
   },
   "outputs": [],
   "source": [
    "def quick_sort_med(array,start,end):\n",
    "    global calcs\n",
    "\n",
    "    if end <= start:\n",
    "        return\n",
    "    \n",
    "    median = ((end - start) // 2) + start\n",
    "    options = [array[start],array[end],array[median]]\n",
    "    options.sort()\n",
    "    p = options[1]\n",
    "    array[array.index(p)] = array[start]\n",
    "    array[start] = p\n",
    "    j = start\n",
    "    \n",
    "\n",
    "    for i in range(start+1, end+1):\n",
    "        calcs += 1\n",
    "        current = array[i]\n",
    "        if current < p:\n",
    "            j += 1\n",
    "            array[i] = array[j]\n",
    "            array[j] = current\n",
    "\n",
    "    array[start] = array[j]\n",
    "    array[j] = p\n",
    "\n",
    "\n",
    "    quick_sort_med(array,start,j-1)\n",
    "    quick_sort_med(array,j+1,end)"
   ]
  },
  {
   "cell_type": "code",
   "execution_count": 27,
   "metadata": {},
   "outputs": [
    {
     "data": {
      "text/plain": [
       "138382"
      ]
     },
     "execution_count": 27,
     "metadata": {},
     "output_type": "execute_result"
    }
   ],
   "source": [
    "nums = [int(x) for x in data]\n",
    "\n",
    "calcs = 0\n",
    "quick_sort_med(nums,0,len(nums)-1)\n",
    "calcs"
   ]
  },
  {
   "cell_type": "code",
   "execution_count": null,
   "metadata": {
    "collapsed": true
   },
   "outputs": [],
   "source": [
    "# def brute_force(array):\n",
    "#     new = []\n",
    "#     lowest = array[0]\n",
    "#     i = 0\n",
    "\n",
    "#     while len(array) > 0:\n",
    "#         lowest = array[0]\n",
    "#         for j in range(len(array)):\n",
    "#             if array[j] < lowest:\n",
    "#                 lowest = array[j]\n",
    "#         new.append(lowest)\n",
    "#         array.pop(array.index(lowest))\n",
    "#     return new\n",
    "\n",
    "\n",
    "# shuffle(test)\n",
    "\n",
    "# start = time.time()\n",
    "# test = brute_force(test)\n",
    "# end = time.time()\n",
    "\n",
    "# print(end - start)"
   ]
  }
 ],
 "metadata": {
  "kernelspec": {
   "display_name": "Python 3",
   "language": "python",
   "name": "python3"
  },
  "language_info": {
   "codemirror_mode": {
    "name": "ipython",
    "version": 3
   },
   "file_extension": ".py",
   "mimetype": "text/x-python",
   "name": "python",
   "nbconvert_exporter": "python",
   "pygments_lexer": "ipython3",
   "version": "3.6.3"
  }
 },
 "nbformat": 4,
 "nbformat_minor": 2
}
