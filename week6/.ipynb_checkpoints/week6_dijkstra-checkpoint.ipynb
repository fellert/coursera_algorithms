{
 "cells": [
  {
   "cell_type": "code",
   "execution_count": 205,
   "metadata": {
    "collapsed": true
   },
   "outputs": [],
   "source": [
    "with open(\"dijkstra.txt\") as f:\n",
    "    data = f.read().splitlines()"
   ]
  },
  {
   "cell_type": "code",
   "execution_count": 206,
   "metadata": {
    "collapsed": true
   },
   "outputs": [],
   "source": [
    "matrix = []\n",
    "graph = {}\n",
    "for line in range(200):  \n",
    "    matrix.append(data[line].split('\\t'))\n",
    "    matrix[line].pop()   \n",
    "    for x in matrix:\n",
    "        vertex = int(x[0])\n",
    "        graph[vertex] = {}\n",
    "        for i in x[1:-1]:\n",
    "            graph[vertex][int(i.split(',')[0])] = int(i.split(',')[1]) "
   ]
  },
  {
   "cell_type": "code",
   "execution_count": 207,
   "metadata": {},
   "outputs": [],
   "source": [
    "dist = {}\n",
    "unvisited = []\n",
    "\n",
    "def dijkstra(graph, source):\n",
    "    \n",
    "    for vertex in graph:\n",
    "        dist[vertex] = 1000000\n",
    "        unvisited.append(vertex)\n",
    "    dist[source] = 0\n",
    "    \n",
    "    while len(unvisited) > 0:\n",
    "        \n",
    "        options = {key: dist[key] for key in dist if key in unvisited}\n",
    "  \n",
    "        v = min(options, key=options.get)\n",
    "\n",
    "        unvisited.remove(v)\n",
    "          \n",
    "        for u in graph[v]:\n",
    "            diff = dist[v] + graph[v][u]\n",
    "            if diff < dist[u]:\n",
    "                dist[u] = diff \n"
   ]
  },
  {
   "cell_type": "code",
   "execution_count": 208,
   "metadata": {},
   "outputs": [],
   "source": [
    "dijkstra(graph,1)"
   ]
  },
  {
   "cell_type": "code",
   "execution_count": 209,
   "metadata": {},
   "outputs": [
    {
     "data": {
      "text/plain": [
       "[2599, 2610, 2947, 2052, 2367, 2399, 2029, 2442, 2505, 3068]"
      ]
     },
     "execution_count": 209,
     "metadata": {},
     "output_type": "execute_result"
    }
   ],
   "source": [
    "required = [7,37,59,82,99,115,133,165,188,197]\n",
    "\n",
    "[dist[key] for key in dist if key in required]"
   ]
  }
 ],
 "metadata": {
  "kernelspec": {
   "display_name": "Python 3",
   "language": "python",
   "name": "python3"
  },
  "language_info": {
   "codemirror_mode": {
    "name": "ipython",
    "version": 3
   },
   "file_extension": ".py",
   "mimetype": "text/x-python",
   "name": "python",
   "nbconvert_exporter": "python",
   "pygments_lexer": "ipython3",
   "version": "3.6.3"
  }
 },
 "nbformat": 4,
 "nbformat_minor": 2
}
