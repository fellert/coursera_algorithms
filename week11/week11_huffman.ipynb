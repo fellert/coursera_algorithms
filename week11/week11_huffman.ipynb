{
 "cells": [
  {
   "cell_type": "code",
   "execution_count": 2,
   "metadata": {
    "collapsed": true
   },
   "outputs": [],
   "source": [
    "with open(\"huffman.txt\") as f:\n",
    "    data = f.read().splitlines()\n",
    "    data.pop(0)\n",
    "    symbols = []\n",
    "    for x in range(len(data)):\n",
    "        symbols.append([str(x+1), int(data[x])])"
   ]
  },
  {
   "cell_type": "code",
   "execution_count": 3,
   "metadata": {
    "collapsed": true
   },
   "outputs": [],
   "source": [
    "def huffman(symbols):\n",
    "    \n",
    "    symbols = sorted(symbols, key=lambda x: x[1])\n",
    "    \n",
    "    T = {}\n",
    "    \n",
    "    for symbol in symbols:\n",
    "        T[symbol[0]] = 0 \n",
    "    \n",
    "    while len(symbols) > 1:   \n",
    "        \n",
    "        left = symbols[0]\n",
    "        right = symbols[1]\n",
    "        \n",
    "#         for x in left[0].split(\" \"):\n",
    "#             T[x] += \"0\"\n",
    "\n",
    "#         for x in right[0].split(\" \"):\n",
    "#             T[x] += \"1\"\n",
    "        \n",
    "        symbols[1] = [left[0]+\" \"+right[0],left[1]+right[1]]\n",
    "        symbols.pop(0)\n",
    "        \n",
    "        for x in symbols[0][0].split(\" \"):\n",
    "            T[x] += 1\n",
    "            \n",
    "        symbols = sorted(symbols, key=lambda x: x[1])\n",
    "    \n",
    "    return T\n",
    "    \n",
    "        "
   ]
  },
  {
   "cell_type": "code",
   "execution_count": 10,
   "metadata": {},
   "outputs": [
    {
     "name": "stdout",
     "output_type": "stream",
     "text": [
      "19\n",
      "9\n"
     ]
    }
   ],
   "source": [
    "tree = huffman(symbols)\n",
    "\n",
    "print(max([i for i in tree.values()]))\n",
    "print(min([i for i in tree.values()]))"
   ]
  },
  {
   "cell_type": "markdown",
   "metadata": {
    "collapsed": true
   },
   "source": [
    "### Maximum-Weight Independent Set"
   ]
  },
  {
   "cell_type": "code",
   "execution_count": 45,
   "metadata": {
    "collapsed": true
   },
   "outputs": [],
   "source": [
    "with open(\"mwis.txt\") as f:\n",
    "    data = f.read().splitlines()\n",
    "    data.pop(0)\n",
    "    weights = {}\n",
    "    for x in range(len(data)):\n",
    "        weights[x+1] = int(data[x])"
   ]
  },
  {
   "cell_type": "code",
   "execution_count": 47,
   "metadata": {},
   "outputs": [],
   "source": [
    "A = {}\n",
    "A[0] = 0\n",
    "A[1] = weights[1]\n",
    "\n",
    "for i in range(2,len(weights)+1):\n",
    "    A[i] = max(A[i-1], (A[i-2]) + weights[i])"
   ]
  },
  {
   "cell_type": "code",
   "execution_count": 54,
   "metadata": {},
   "outputs": [],
   "source": [
    "i = len(A) - 1 \n",
    "S = []\n",
    "\n",
    "while i >= 1:\n",
    "    if A[i] == A[i-1]:\n",
    "        i -= 1 \n",
    "    else:\n",
    "        S.append(i)\n",
    "        i -= 2"
   ]
  },
  {
   "cell_type": "code",
   "execution_count": 61,
   "metadata": {},
   "outputs": [
    {
     "data": {
      "text/plain": [
       "['1', '0', '1', '0', '0', '1', '1', '0']"
      ]
     },
     "execution_count": 61,
     "metadata": {},
     "output_type": "execute_result"
    }
   ],
   "source": [
    "targets = [1,2,3,4,17,117,517,997]\n",
    "\n",
    "[\"1\" if x in S else \"0\" for x in targets]"
   ]
  }
 ],
 "metadata": {
  "kernelspec": {
   "display_name": "Python 3",
   "language": "python",
   "name": "python3"
  },
  "language_info": {
   "codemirror_mode": {
    "name": "ipython",
    "version": 3
   },
   "file_extension": ".py",
   "mimetype": "text/x-python",
   "name": "python",
   "nbconvert_exporter": "python",
   "pygments_lexer": "ipython3",
   "version": "3.6.3"
  }
 },
 "nbformat": 4,
 "nbformat_minor": 2
}
